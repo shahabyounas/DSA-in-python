{
 "cells": [
  {
   "cell_type": "code",
   "execution_count": 10,
   "metadata": {},
   "outputs": [],
   "source": [
    "# Loading data, dividing, modeling and EDA below\n",
    "import pandas as pd\n",
    "from sklearn.ensemble import RandomForestRegressor\n",
    "from sklearn.linear_model import LinearRegression\n",
    "from sklearn.model_selection import train_test_split\n",
    "\n",
    "data = pd.read_csv('train.csv')\n",
    "\n",
    "# Remove data with extreme outlier coordinates or negative fares\n",
    "data = data.query('pickup_latitude > 40.7 and pickup_latitude < 40.8 and ' +\n",
    "                  'dropoff_latitude > 40.7 and dropoff_latitude < 40.8 and ' +\n",
    "                  'pickup_longitude > -74 and pickup_longitude < -73.9 and ' +\n",
    "                  'dropoff_longitude > -74 and dropoff_longitude < -73.9 and ' +\n",
    "                  'fare_amount > 0'\n",
    "                  )\n",
    "\n",
    "y = data.fare_amount\n",
    "\n",
    "base_features = ['pickup_longitude',\n",
    "                 'pickup_latitude',\n",
    "                 'dropoff_longitude',\n",
    "                 'dropoff_latitude',\n",
    "                 'passenger_count']\n",
    "\n",
    "X = data[base_features]\n",
    "\n",
    "\n",
    "train_X, val_X, train_y, val_y = train_test_split(X, y, random_state=1)\n",
    "first_model = RandomForestRegressor(n_estimators=50, random_state=1).fit(train_X, train_y)"
   ]
  },
  {
   "cell_type": "code",
   "execution_count": 12,
   "metadata": {},
   "outputs": [
    {
     "data": {
      "text/html": [
       "<div>\n",
       "<style scoped>\n",
       "    .dataframe tbody tr th:only-of-type {\n",
       "        vertical-align: middle;\n",
       "    }\n",
       "\n",
       "    .dataframe tbody tr th {\n",
       "        vertical-align: top;\n",
       "    }\n",
       "\n",
       "    .dataframe thead th {\n",
       "        text-align: right;\n",
       "    }\n",
       "</style>\n",
       "<table border=\"1\" class=\"dataframe\">\n",
       "  <thead>\n",
       "    <tr style=\"text-align: right;\">\n",
       "      <th></th>\n",
       "      <th>pickup_longitude</th>\n",
       "      <th>pickup_latitude</th>\n",
       "      <th>dropoff_longitude</th>\n",
       "      <th>dropoff_latitude</th>\n",
       "      <th>passenger_count</th>\n",
       "    </tr>\n",
       "  </thead>\n",
       "  <tbody>\n",
       "    <tr>\n",
       "      <th>count</th>\n",
       "      <td>23466.000000</td>\n",
       "      <td>23466.000000</td>\n",
       "      <td>23466.000000</td>\n",
       "      <td>23466.000000</td>\n",
       "      <td>23466.000000</td>\n",
       "    </tr>\n",
       "    <tr>\n",
       "      <th>mean</th>\n",
       "      <td>-73.976827</td>\n",
       "      <td>40.756931</td>\n",
       "      <td>-73.975359</td>\n",
       "      <td>40.757434</td>\n",
       "      <td>1.662320</td>\n",
       "    </tr>\n",
       "    <tr>\n",
       "      <th>std</th>\n",
       "      <td>0.014625</td>\n",
       "      <td>0.018206</td>\n",
       "      <td>0.015930</td>\n",
       "      <td>0.018659</td>\n",
       "      <td>1.290729</td>\n",
       "    </tr>\n",
       "    <tr>\n",
       "      <th>min</th>\n",
       "      <td>-73.999999</td>\n",
       "      <td>40.700013</td>\n",
       "      <td>-73.999999</td>\n",
       "      <td>40.700020</td>\n",
       "      <td>0.000000</td>\n",
       "    </tr>\n",
       "    <tr>\n",
       "      <th>25%</th>\n",
       "      <td>-73.987964</td>\n",
       "      <td>40.744901</td>\n",
       "      <td>-73.987143</td>\n",
       "      <td>40.745756</td>\n",
       "      <td>1.000000</td>\n",
       "    </tr>\n",
       "    <tr>\n",
       "      <th>50%</th>\n",
       "      <td>-73.979629</td>\n",
       "      <td>40.758076</td>\n",
       "      <td>-73.978588</td>\n",
       "      <td>40.758542</td>\n",
       "      <td>1.000000</td>\n",
       "    </tr>\n",
       "    <tr>\n",
       "      <th>75%</th>\n",
       "      <td>-73.967797</td>\n",
       "      <td>40.769602</td>\n",
       "      <td>-73.966459</td>\n",
       "      <td>40.770406</td>\n",
       "      <td>2.000000</td>\n",
       "    </tr>\n",
       "    <tr>\n",
       "      <th>max</th>\n",
       "      <td>-73.900062</td>\n",
       "      <td>40.799952</td>\n",
       "      <td>-73.900062</td>\n",
       "      <td>40.799999</td>\n",
       "      <td>6.000000</td>\n",
       "    </tr>\n",
       "  </tbody>\n",
       "</table>\n",
       "</div>"
      ],
      "text/plain": [
       "       pickup_longitude  pickup_latitude  dropoff_longitude  dropoff_latitude  \\\n",
       "count      23466.000000     23466.000000       23466.000000      23466.000000   \n",
       "mean         -73.976827        40.756931         -73.975359         40.757434   \n",
       "std            0.014625         0.018206           0.015930          0.018659   \n",
       "min          -73.999999        40.700013         -73.999999         40.700020   \n",
       "25%          -73.987964        40.744901         -73.987143         40.745756   \n",
       "50%          -73.979629        40.758076         -73.978588         40.758542   \n",
       "75%          -73.967797        40.769602         -73.966459         40.770406   \n",
       "max          -73.900062        40.799952         -73.900062         40.799999   \n",
       "\n",
       "       passenger_count  \n",
       "count     23466.000000  \n",
       "mean          1.662320  \n",
       "std           1.290729  \n",
       "min           0.000000  \n",
       "25%           1.000000  \n",
       "50%           1.000000  \n",
       "75%           2.000000  \n",
       "max           6.000000  "
      ]
     },
     "execution_count": 12,
     "metadata": {},
     "output_type": "execute_result"
    }
   ],
   "source": [
    "train_X.describe()"
   ]
  },
  {
   "cell_type": "code",
   "execution_count": 15,
   "metadata": {},
   "outputs": [
    {
     "data": {
      "text/plain": [
       "count    23466.000000\n",
       "mean         8.472539\n",
       "std          4.609747\n",
       "min          0.010000\n",
       "25%          5.500000\n",
       "50%          7.500000\n",
       "75%         10.100000\n",
       "max        165.000000\n",
       "Name: fare_amount, dtype: float64"
      ]
     },
     "execution_count": 15,
     "metadata": {},
     "output_type": "execute_result"
    }
   ],
   "source": [
    "train_y.describe()"
   ]
  },
  {
   "cell_type": "code",
   "execution_count": 16,
   "metadata": {},
   "outputs": [
    {
     "name": "stdout",
     "output_type": "stream",
     "text": [
      "0.865 +/- 0.015 dropoff_latitude\n",
      "0.848 +/- 0.021 pickup_latitude\n",
      "0.623 +/- 0.020 pickup_longitude\n",
      "0.539 +/- 0.027 dropoff_longitude\n",
      "-0.001 +/- 0.002 passenger_count\n"
     ]
    }
   ],
   "source": [
    "\n",
    "from sklearn.inspection import permutation_importance\n",
    "\n",
    "r = permutation_importance(first_model, val_X, val_y, random_state=1)\n",
    "for i in r.importances_mean.argsort()[::-1]:\n",
    "    # if r.importances_mean[i] - 2 * r.importances_std[i] > 0:\n",
    "        print(f\"{r.importances_mean[i]:.3f}\"\n",
    "              f\" +/- {r.importances_std[i]:.3f}\"\n",
    "              f\" {base_features[i]:<8}\")"
   ]
  }
 ],
 "metadata": {
  "kernelspec": {
   "display_name": "venv",
   "language": "python",
   "name": "python3"
  },
  "language_info": {
   "codemirror_mode": {
    "name": "ipython",
    "version": 3
   },
   "file_extension": ".py",
   "mimetype": "text/x-python",
   "name": "python",
   "nbconvert_exporter": "python",
   "pygments_lexer": "ipython3",
   "version": "3.12.3"
  }
 },
 "nbformat": 4,
 "nbformat_minor": 2
}
