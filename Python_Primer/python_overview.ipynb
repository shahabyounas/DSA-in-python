{
 "cells": [
  {
   "cell_type": "markdown",
   "metadata": {},
   "source": [
    "```\n",
    "Table 1.2 provides a summary of commonly used, built-in classes in Python; we\n",
    "take particular note of which classes are mutable and which are immutable. A class\n",
    "is immutable if each object of that class has a fixed value upon instantiation that\n",
    "cannot subsequently be changed. For example, the float class is immutable. Once\n",
    "an instance has been created, its value cannot be changed (although an identifier\n",
    "referencing that object can be reassigned to a different value).\n",
    "\n",
    "Class Description Immutable?\n",
    "bool Boolean value\n",
    "int integer (arbitrary magnitude)\n",
    "float floating-point number\n",
    "list mutable sequence of objects - Only mutable\n",
    "tuple immutable sequence of objects\n",
    "str character string\n",
    "set unordered set of distinct objects - Only mutable\n",
    "frozenset immutable form of set class\n",
    "dict associative mapping (aka dictionary)  - - Only mutable\n",
    "\n",
    "Table 1.2: Commonly used built-in classes for Python\n",
    "In this section, we provide an introduction to these classes, discussing their\n",
    "purpose and presenting several means for creating instances of the classes. Literal\n",
    "forms (such as 98.6) exist for most of the built-in classes, and all of the classes\n",
    "support a traditional constructor form that creates instances that are based upon\n",
    "one or more existing values. Operators supported by these classes are described in\n",
    "Section 1.3. More detailed information about these classes can be found in later\n",
    "chapters as follows: lists and tuples (Chapter 5); strings (Chapters 5 and 13, and\n",
    "Appendix A); sets and dictionaries (Chapter 10).\n",
    "```"
   ]
  },
  {
   "cell_type": "code",
   "execution_count": 22,
   "metadata": {},
   "outputs": [],
   "source": [
    "list = [('city','Peshawar' ), ( 'city', 'Kallam')]\n",
    "\n",
    "dictionary  = dict(list)\n",
    "\n",
    "dictionary"
   ]
  }
 ],
 "metadata": {
  "kernelspec": {
   "display_name": "Python 3",
   "language": "python",
   "name": "python3"
  },
  "language_info": {
   "codemirror_mode": {
    "name": "ipython",
    "version": 3
   },
   "file_extension": ".py",
   "mimetype": "text/x-python",
   "name": "python",
   "nbconvert_exporter": "python",
   "pygments_lexer": "ipython3",
   "version": "3.11.7"
  }
 },
 "nbformat": 4,
 "nbformat_minor": 2
}
