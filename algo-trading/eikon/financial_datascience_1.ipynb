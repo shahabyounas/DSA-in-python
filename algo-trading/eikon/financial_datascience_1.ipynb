{
 "cells": [
  {
   "cell_type": "code",
   "execution_count": 70,
   "metadata": {},
   "outputs": [
    {
     "data": {
      "text/html": [
       "        <script type=\"text/javascript\">\n",
       "        window.PlotlyConfig = {MathJaxConfig: 'local'};\n",
       "        if (window.MathJax && window.MathJax.Hub && window.MathJax.Hub.Config) {window.MathJax.Hub.Config({SVG: {font: \"STIX-Web\"}});}\n",
       "        if (typeof require !== 'undefined') {\n",
       "        require.undef(\"plotly\");\n",
       "        requirejs.config({\n",
       "            paths: {\n",
       "                'plotly': ['https://cdn.plot.ly/plotly-2.32.0.min']\n",
       "            }\n",
       "        });\n",
       "        require(['plotly'], function(Plotly) {\n",
       "            window._Plotly = Plotly;\n",
       "        });\n",
       "        }\n",
       "        </script>\n",
       "        "
      ]
     },
     "metadata": {},
     "output_type": "display_data"
    }
   ],
   "source": [
    "import plotly\n",
    "import numpy as np\n",
    "import pandas as pd\n",
    "import requests as rq\n",
    "import xlsxwriter\n",
    "import math\n",
    "import cufflinks as cf\n",
    "import configparser as cp\n",
    "import sys\n",
    "import eikon as ek\n",
    "\n",
    "cf.go_offline()\n",
    "pd.options.plotting.backend = \"plotly\"\n",
    "\n",
    "# The application id config\n",
    "cfg = cp.ConfigParser()\n",
    "cfg.read('eikon.cfg')\n",
    "ek.set_app_key(cfg['eikon']['app_id'])\n"
   ]
  },
  {
   "cell_type": "code",
   "execution_count": 62,
   "metadata": {},
   "outputs": [],
   "source": [
    "# Cross assets analysis\n",
    "\n",
    "rics = ['META.O', '.FTSE']\n",
    "\n",
    "# print(ek.get_symbology(['US30303M1027'], from_symbol_type='ISIN', to_symbol_type=['ticker', 'RIC']))\n",
    "data = ek.get_timeseries(rics, fields='Close', start_date='2020-01-01', end_date='2025-01-01', interval='monthly')\n",
    "\n",
    "# data.head()\n",
    "# data.info()\n"
   ]
  },
  {
   "cell_type": "code",
   "execution_count": 79,
   "metadata": {},
   "outputs": [],
   "source": [
    "rets = np.log(data/ data.shift(1))\n",
    "\n",
    "# rets.head()\n",
    "# rets.plot(kind=\"hist\")\n",
    "# data.corr().plot(kind=\"imshow\")\n",
    "\n"
   ]
  },
  {
   "cell_type": "code",
   "execution_count": 91,
   "metadata": {},
   "outputs": [],
   "source": [
    "news = ek.get_news_headlines('R:TSLA.O PRODUCTION', \n",
    "date_from='2024-01-01', date_to='2025-01-01', count=50)\n",
    "news['storyId']\n",
    "\n",
    "storyId = news['storyId'].iloc[0]\n",
    "\n"
   ]
  },
  {
   "cell_type": "code",
   "execution_count": 111,
   "metadata": {},
   "outputs": [],
   "source": [
    "from IPython.display import HTML\n",
    "from bs4 import BeautifulSoup\n",
    "# HTML(ek.get_news_story(storyId))\n",
    "\n",
    "html = ek.get_news_story(storyId)\n",
    "\n",
    "raw = BeautifulSoup(html, 'html').get_text()\n",
    "\n",
    "ind = raw.find('Tesla')\n",
    "\n",
    "# print(ind)\n",
    "# print(raw[ind:ind + 500])"
   ]
  },
  {
   "cell_type": "code",
   "execution_count": 115,
   "metadata": {},
   "outputs": [],
   "source": [
    "import nltk\n",
    "from nltk import word_tokenize"
   ]
  },
  {
   "cell_type": "code",
   "execution_count": 128,
   "metadata": {},
   "outputs": [
    {
     "name": "stdout",
     "output_type": "stream",
     "text": [
      "Displaying 2 of 2 matches:\n",
      "Tesla Vehicle Production & Deliveries and Date for Financi\n",
      "ighest quarterly deployment yet . Production Deliveries Subject to operating l\n"
     ]
    }
   ],
   "source": [
    "tokens = word_tokenize(raw)\n",
    "text = nltk.Text(tokens)\n",
    "text.concordance('production')\n",
    "\n",
    "stories = []\n",
    "for storyId in news['storyId']:\n",
    "    html = ek.get_news_story(storyId)\n",
    "    stories.append(BeautifulSoup(html, 'html').get_text())\n"
   ]
  },
  {
   "cell_type": "code",
   "execution_count": 147,
   "metadata": {},
   "outputs": [],
   "source": [
    "collection = ''.join(stories)\n",
    "\n",
    "tokens = word_tokenize(collection)\n",
    "\n",
    "text = nltk.Text(tokens)\n",
    "\n",
    "# text.concordance('production')\n",
    "# text.concordance('increase')\n",
    "# text.concordance('automation')\n",
    "# text.concordance('vehicles')"
   ]
  },
  {
   "cell_type": "code",
   "execution_count": null,
   "metadata": {},
   "outputs": [],
   "source": []
  }
 ],
 "metadata": {
  "kernelspec": {
   "display_name": "venv",
   "language": "python",
   "name": "python3"
  },
  "language_info": {
   "codemirror_mode": {
    "name": "ipython",
    "version": 3
   },
   "file_extension": ".py",
   "mimetype": "text/x-python",
   "name": "python",
   "nbconvert_exporter": "python",
   "pygments_lexer": "ipython3",
   "version": "3.12.3"
  }
 },
 "nbformat": 4,
 "nbformat_minor": 2
}
