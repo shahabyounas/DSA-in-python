{
 "cells": [
  {
   "cell_type": "code",
   "execution_count": 216,
   "metadata": {},
   "outputs": [
    {
     "data": {
      "text/html": [
       "        <script type=\"text/javascript\">\n",
       "        window.PlotlyConfig = {MathJaxConfig: 'local'};\n",
       "        if (window.MathJax && window.MathJax.Hub && window.MathJax.Hub.Config) {window.MathJax.Hub.Config({SVG: {font: \"STIX-Web\"}});}\n",
       "        if (typeof require !== 'undefined') {\n",
       "        require.undef(\"plotly\");\n",
       "        requirejs.config({\n",
       "            paths: {\n",
       "                'plotly': ['https://cdn.plot.ly/plotly-2.32.0.min']\n",
       "            }\n",
       "        });\n",
       "        require(['plotly'], function(Plotly) {\n",
       "            window._Plotly = Plotly;\n",
       "        });\n",
       "        }\n",
       "        </script>\n",
       "        "
      ]
     },
     "metadata": {},
     "output_type": "display_data"
    }
   ],
   "source": [
    "import plotly\n",
    "import numpy as np\n",
    "import pandas as pd\n",
    "import requests as rq\n",
    "import xlsxwriter\n",
    "import math\n",
    "import cufflinks as cf\n",
    "import configparser as cp\n",
    "\n",
    "cf.go_offline()\n",
    "pd.options.plotting.backend = \"plotly\"\n"
   ]
  },
  {
   "cell_type": "code",
   "execution_count": 35,
   "metadata": {},
   "outputs": [],
   "source": [
    "import sys\n",
    "import eikon as ek\n",
    "\n",
    "# The application id config\n",
    "cfg = cp.ConfigParser()\n",
    "cfg.read('eikon.cfg')\n",
    "ek.set_app_key(cfg['eikon']['app_id'])\n"
   ]
  },
  {
   "cell_type": "code",
   "execution_count": 111,
   "metadata": {},
   "outputs": [],
   "source": [
    "# Get the historical Data\n",
    "data = ek.get_timeseries('AAPL.O', fields='*', start_date='2020-01-01', end_date='2025-01-01', interval='monthly')\n",
    "# news = ek.get_news_headlines()\n",
    "\n"
   ]
  },
  {
   "cell_type": "code",
   "execution_count": 213,
   "metadata": {},
   "outputs": [
    {
     "name": "stderr",
     "output_type": "stream",
     "text": [
      "/Users/Work/Desktop/projects/DSA-in-python/venv/lib/python3.12/site-packages/eikon/data_grid.py:255: FutureWarning:\n",
      "\n",
      "errors='ignore' is deprecated and will raise in a future version. Use to_numeric without passing `errors` and catch exceptions explicitly instead\n",
      "\n"
     ]
    }
   ],
   "source": [
    "# print(len(data))\n",
    "# data.describe()\n",
    "# data.info()\n",
    "# data[['HIGH']].plot()\n",
    "\n",
    "rics = ['GOOG.O', 'AMZN.O', 'FB.O']\n",
    "\n",
    "# help(ek.get_symbology)\n",
    "# ek.get_symbology(rics, from_symbol_type='RIC', to_symbol_type=['ticker', 'ISIN'])\n",
    "\n",
    "# data = ek.get_timeseries(rics, fields='CLOSE', start_date='2010-01-01', end_date='2025-01-01', interval='monthly')\n",
    "\n",
    "\n",
    "data, err = ek.get_data('0#.GDAXI', fields= ['TR.CommonName', 'TR.Volume', 'TR.PriceClose', 'TR.TotalReturnYTD'])\n",
    "\n"
   ]
  },
  {
   "cell_type": "code",
   "execution_count": 223,
   "metadata": {},
   "outputs": [],
   "source": [
    "cols = ['YTD Total Return']\n",
    "data.set_index('Instrument')[cols].sort_values(by='YTD Total Return').plot(kind='bar')\n"
   ]
  },
  {
   "cell_type": "code",
   "execution_count": null,
   "metadata": {},
   "outputs": [],
   "source": [
    "# Data Retrieval\n"
   ]
  }
 ],
 "metadata": {
  "kernelspec": {
   "display_name": "venv",
   "language": "python",
   "name": "python3"
  },
  "language_info": {
   "codemirror_mode": {
    "name": "ipython",
    "version": 3
   },
   "file_extension": ".py",
   "mimetype": "text/x-python",
   "name": "python",
   "nbconvert_exporter": "python",
   "pygments_lexer": "ipython3",
   "version": "3.12.3"
  }
 },
 "nbformat": 4,
 "nbformat_minor": 2
}
