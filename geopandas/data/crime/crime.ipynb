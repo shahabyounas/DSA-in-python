{
 "cells": [
  {
   "cell_type": "code",
   "execution_count": null,
   "metadata": {},
   "outputs": [],
   "source": [
    "import folium\n",
    "import pandas as pd\n",
    "from folium import Choropleth, Circle, Marker\n",
    "from folium.plugins import HeatMap, MarkerCluster\n",
    "\n",
    "c_data = pd.read_csv('crime.csv', encoding='windows-1252')"
   ]
  },
  {
   "cell_type": "code",
   "execution_count": null,
   "metadata": {},
   "outputs": [],
   "source": [
    "m1 = folium.Map(location=[42.32,-71.0589], tiles='openstreetmap', zoom_start=10)\n",
    "m1"
   ]
  },
  {
   "cell_type": "code",
   "execution_count": null,
   "metadata": {},
   "outputs": [],
   "source": [
    "# c_data.groupby('OFFENSE_CODE_GROUP')[['OFFENSE_CODE_GROUP']].value_counts().sort_values(ascending=False)\n",
    "\n",
    "check = ((c_data.OFFENSE_CODE_GROUP == 'Robbery') & (c_data.HOUR.isin(range(9, 18))))\n",
    "daytime_rob = c_data[check]\n",
    "# daytime_rob\n",
    "\n",
    "# daytime_rob['HOUR'].plot.bar(y='HOUR')\n",
    "hours = c_data['OFFENSE_CODE_GROUP'].value_counts()\n",
    "\n",
    "plot = hours.plot(figsize=(20, 20), kind='bar', stacked=True)\n",
    "\n",
    "# c_data.head()\n",
    "\n",
    "\n"
   ]
  },
  {
   "cell_type": "code",
   "execution_count": null,
   "metadata": {},
   "outputs": [],
   "source": [
    "m_2 = folium.Map(location=[42.32,-71.0589], tiles='cartodbpositron', zoom_start=13)\n",
    "\n",
    "daytime_rob = daytime_rob[daytime_rob['Lat'].notna()]\n",
    "\n",
    "# for idx, row in daytime_rob.iterrows():\n",
    "    # Marker([row['Lat'], row['Long']]).add_to(m_2)\n",
    "    \n",
    "m_2"
   ]
  },
  {
   "cell_type": "code",
   "execution_count": null,
   "metadata": {},
   "outputs": [],
   "source": [
    "# Create the map\n",
    "import math\n",
    "m_3 = folium.Map(location=[42.32,-71.0589], tiles='cartodbpositron', zoom_start=13)\n",
    "\n",
    "# Add points cluster\n",
    "mc = MarkerCluster()\n",
    "\n",
    "\n",
    "for idx, row in daytime_rob.iterrows():\n",
    "    if not math.isnan(row['Long']) and not math.isnan(row['Lat']):\n",
    "        mc.add_child(Marker([row['Lat'], row['Long']]))\n",
    "\n",
    "m_3.add_child(mc)\n"
   ]
  },
  {
   "cell_type": "code",
   "execution_count": null,
   "metadata": {},
   "outputs": [],
   "source": [
    "# Create a base map\n",
    "m_4 = folium.Map(location=[42.32,-71.0589], tiles='cartodbpositron', zoom_start=13)\n",
    "\n",
    "\n",
    "\n",
    "\n",
    "# def color_producer(val):\n",
    "#     if val >= 7 and val <= 22:\n",
    "#         return 'forestgreen'\n",
    "#     else:\n",
    "#         return 'darkred'\n",
    "\n",
    "# # Add a bubble map to the base map\n",
    "# for i in range(0, len(daytime_rob)):\n",
    "#     Circle(\n",
    "#         location=[daytime_rob.iloc[i]['Lat'], daytime_rob.iloc[i]['Long']],\n",
    "#         radius=20,\n",
    "#         color=color_producer(daytime_rob.iloc[i]['HOUR'])).add_to(m_4)\n",
    "    \n",
    "\n",
    "m_4"
   ]
  },
  {
   "cell_type": "code",
   "execution_count": null,
   "metadata": {},
   "outputs": [],
   "source": [
    "# Create a base map\n",
    "m_5 = folium.Map(location=[42.32,-71.0589], tiles='cartodbpositron', zoom_start=12)\n",
    "\n",
    "# Add a heatmap to the base map\n",
    "c_data = c_data[c_data['Lat'].notna()]\n",
    "HeatMap(data=c_data[['Lat', 'Long']], radius=10).add_to(m_5)\n",
    "\n",
    "m_5"
   ]
  },
  {
   "cell_type": "code",
   "execution_count": null,
   "metadata": {},
   "outputs": [],
   "source": [
    "import geopandas as gpd\n",
    "districts_full = gpd.read_file('Decptsofinterest.shp')\n",
    "districts_full"
   ]
  },
  {
   "cell_type": "code",
   "execution_count": null,
   "metadata": {},
   "outputs": [],
   "source": []
  }
 ],
 "metadata": {
  "kernelspec": {
   "display_name": "venv",
   "language": "python",
   "name": "python3"
  },
  "language_info": {
   "codemirror_mode": {
    "name": "ipython",
    "version": 3
   },
   "file_extension": ".py",
   "mimetype": "text/x-python",
   "name": "python",
   "nbconvert_exporter": "python",
   "pygments_lexer": "ipython3",
   "version": "3.12.3"
  }
 },
 "nbformat": 4,
 "nbformat_minor": 2
}
